{
 "cells": [
  {
   "cell_type": "markdown",
   "metadata": {},
   "source": [
    "## Python - Control Flow\n"
   ]
  },
  {
   "cell_type": "markdown",
   "metadata": {},
   "source": [
    "### 1. if Conditional Statement"
   ]
  },
  {
   "cell_type": "code",
   "execution_count": 3,
   "metadata": {},
   "outputs": [
    {
     "name": "stdout",
     "output_type": "stream",
     "text": [
      "Enter your test score : 90\n"
     ]
    }
   ],
   "source": [
    "score = int(input(\"Enter your test score : \"))\n",
    "passing = 40\n",
    "distinction = 90"
   ]
  },
  {
   "cell_type": "code",
   "execution_count": 4,
   "metadata": {},
   "outputs": [
    {
     "name": "stdout",
     "output_type": "stream",
     "text": [
      "You're at the top! You’ve earned a distinction!\n"
     ]
    }
   ],
   "source": [
    "if score >= distinction:\n",
    "    print(\"You're at the top! You’ve earned a distinction!\")\n",
    "\n",
    "elif score >= passing and score < distinction:\n",
    "    print(\"You have passed!\")\n",
    "\n",
    "elif score < passing:\n",
    "    print(\"Sorry! You have failed\")\n"
   ]
  },
  {
   "cell_type": "code",
   "execution_count": 5,
   "metadata": {},
   "outputs": [
    {
     "name": "stdout",
     "output_type": "stream",
     "text": [
      "Distinction\n"
     ]
    }
   ],
   "source": [
    "if score==100:\n",
    "    print(\"Perfect\")\n",
    "elif  90<=score<100:\n",
    "    print(\"Distinction\")\n",
    "elif 65<=score<90:\n",
    "    print(\"First Class\")\n",
    "elif 40<=score<65:\n",
    "    print(\"Second Class\")\n",
    "else:\n",
    "    print(\"Failed\")\n"
   ]
  },
  {
   "cell_type": "code",
   "execution_count": 14,
   "metadata": {},
   "outputs": [
    {
     "name": "stdout",
     "output_type": "stream",
     "text": [
      "Bad review!\n"
     ]
    }
   ],
   "source": [
    "statement = \"The coffee is bad\"\n",
    "\n",
    "if 'good' not in statement:\n",
    "    print(\"Bad review!\")"
   ]
  },
  {
   "cell_type": "code",
   "execution_count": 13,
   "metadata": {},
   "outputs": [
    {
     "name": "stdout",
     "output_type": "stream",
     "text": [
      "This is not a bad review\n"
     ]
    }
   ],
   "source": [
    "\n",
    "statement2 = \"This phone works great\"\n",
    "if 'great' in statement2:\n",
    "    print(\"This is not a bad review\")"
   ]
  },
  {
   "cell_type": "code",
   "execution_count": 16,
   "metadata": {},
   "outputs": [
    {
     "name": "stdout",
     "output_type": "stream",
     "text": [
      "Enter a number: 23\n",
      "Odd\n",
      "Not divisible by 3\n"
     ]
    }
   ],
   "source": [
    "# program to check the diVisiabality\n",
    "num = int(input(\"Enter a number: \"))\n",
    "#enter 24\n",
    "if num%2==0:\n",
    "    print(\"Even\")\n",
    "    if num%4==0:\n",
    "        print(\"divisible by 4\") \n",
    "    else:\n",
    "        print(\"Not divisible by 4\")\n",
    "else:\n",
    "    print(\"Odd\")\n",
    "    if num%3==0:\n",
    "        print(\"Divisible by 3\")\n",
    "    else:\n",
    "        print(\"Not divisible by 3\")\n"
   ]
  },
  {
   "cell_type": "code",
   "execution_count": 19,
   "metadata": {},
   "outputs": [],
   "source": [
    "name = ''"
   ]
  },
  {
   "cell_type": "code",
   "execution_count": 20,
   "metadata": {},
   "outputs": [
    {
     "name": "stdout",
     "output_type": "stream",
     "text": [
      "Is False\n"
     ]
    }
   ],
   "source": [
    "if name:\n",
    "    print(\"Is True\")\n",
    "else:\n",
    "    print(\"Is False\")"
   ]
  },
  {
   "cell_type": "markdown",
   "metadata": {},
   "source": [
    "### 2. for statement "
   ]
  },
  {
   "cell_type": "code",
   "execution_count": 30,
   "metadata": {},
   "outputs": [
    {
     "name": "stdout",
     "output_type": "stream",
     "text": [
      "1\n",
      "2\n",
      "3\n",
      "4\n"
     ]
    }
   ],
   "source": [
    "for i in range(1,5):\n",
    "    print(i)"
   ]
  },
  {
   "cell_type": "code",
   "execution_count": 29,
   "metadata": {},
   "outputs": [
    {
     "name": "stdout",
     "output_type": "stream",
     "text": [
      "1\n",
      "3\n",
      "5\n",
      "7\n",
      "9\n"
     ]
    }
   ],
   "source": [
    "for i in range(1,10,2):\n",
    "    print(i) "
   ]
  },
  {
   "cell_type": "code",
   "execution_count": 31,
   "metadata": {},
   "outputs": [
    {
     "name": "stdout",
     "output_type": "stream",
     "text": [
      "M\n",
      "a\n",
      "r\n",
      "y\n",
      " \n",
      "h\n",
      "a\n",
      "d\n",
      " \n",
      "a\n",
      " \n",
      "l\n",
      "i\n",
      "t\n",
      "t\n",
      "l\n",
      "e\n",
      " \n",
      "l\n",
      "a\n",
      "m\n",
      "b\n"
     ]
    }
   ],
   "source": [
    "#Looping on a string\n",
    "\n",
    "my_string = \"Mary had a little lamb\"\n",
    "\n",
    "for x in my_string:\n",
    "    print(x)"
   ]
  },
  {
   "cell_type": "code",
   "execution_count": 32,
   "metadata": {},
   "outputs": [
    {
     "name": "stdout",
     "output_type": "stream",
     "text": [
      "0 M\n",
      "1 a\n",
      "2 r\n",
      "3 y\n",
      "4  \n",
      "5 h\n",
      "6 a\n",
      "7 d\n",
      "8  \n",
      "9 a\n",
      "10  \n",
      "11 l\n",
      "12 i\n",
      "13 t\n",
      "14 t\n",
      "15 l\n",
      "16 e\n",
      "17  \n",
      "18 l\n",
      "19 a\n",
      "20 m\n",
      "21 b\n"
     ]
    }
   ],
   "source": [
    "my_string = \"Mary had a little lamb\"\n",
    "\n",
    "for n,alphabet in enumerate(my_string):\n",
    "    print(n, alphabet)"
   ]
  },
  {
   "cell_type": "code",
   "execution_count": 33,
   "metadata": {},
   "outputs": [
    {
     "name": "stdout",
     "output_type": "stream",
     "text": [
      "Current Letter:  P\n",
      "Current Letter:  y\n",
      "Current Letter:  t\n",
      "Current Letter:  h\n",
      "Current Letter:  o\n",
      "Current Letter:  n\n"
     ]
    }
   ],
   "source": [
    "for letter in 'Python':\n",
    "    print(\"Current Letter: \", letter)"
   ]
  },
  {
   "cell_type": "code",
   "execution_count": 34,
   "metadata": {},
   "outputs": [
    {
     "name": "stdout",
     "output_type": "stream",
     "text": [
      "Current fruit:  banana\n",
      "Current fruit:  apple\n",
      "Current fruit:  mango\n"
     ]
    }
   ],
   "source": [
    "fruits = ['banana', 'apple', 'mango']\n",
    "\n",
    "for fruit in fruits:\n",
    "    print(\"Current fruit: \", fruit)    "
   ]
  },
  {
   "cell_type": "code",
   "execution_count": 35,
   "metadata": {},
   "outputs": [
    {
     "name": "stdout",
     "output_type": "stream",
     "text": [
      "Current food:  pizza\n",
      "Current food:  steak\n",
      "Current food:  rice\n",
      "Current food:  burger\n"
     ]
    }
   ],
   "source": [
    "foods = ['pizza', 'steak', 'rice', 'burger', 'pasta']\n",
    "\n",
    "for index in range(4):\n",
    "    print(\"Current food: \", foods[index])"
   ]
  },
  {
   "cell_type": "markdown",
   "metadata": {},
   "source": [
    "### 3. while statement "
   ]
  },
  {
   "cell_type": "code",
   "execution_count": 36,
   "metadata": {
    "scrolled": true
   },
   "outputs": [
    {
     "name": "stdout",
     "output_type": "stream",
     "text": [
      "The count is  0\n",
      "The count is  1\n",
      "The count is  2\n",
      "The count is  3\n",
      "The count is  4\n",
      "The count is  5\n",
      "The count is  6\n",
      "The count is  7\n",
      "The count is  8\n",
      "The count is  9\n"
     ]
    }
   ],
   "source": [
    "count = 0\n",
    "while count < 10:\n",
    "    print(\"The count is \", count)\n",
    "    count+=1"
   ]
  },
  {
   "cell_type": "code",
   "execution_count": 47,
   "metadata": {},
   "outputs": [
    {
     "name": "stdout",
     "output_type": "stream",
     "text": [
      "2\n",
      " number is even\n",
      "4\n",
      " number is even\n",
      "5\n",
      "number is odd\n",
      "6\n",
      " number is even\n",
      "8\n",
      " number is even\n",
      "7\n",
      "number is odd\n",
      "5\n",
      "number is odd\n",
      "4\n",
      " number is even\n",
      "4\n",
      " number is even\n",
      "1\n",
      "number is odd\n",
      "5\n",
      "number is odd\n",
      "4\n",
      " number is even\n",
      "7\n",
      "number is odd\n",
      "9\n",
      "number is odd\n",
      "4\n",
      " number is even\n",
      "7\n",
      "number is odd\n",
      "5\n",
      "number is odd\n",
      "4\n",
      " number is even\n",
      "1\n",
      "number is odd\n",
      "5\n",
      "number is odd\n",
      "8\n",
      " number is even\n",
      "7\n",
      "number is odd\n"
     ]
    }
   ],
   "source": [
    "num=\"2456875441547947541587\"\n",
    "for n in num:\n",
    "    print(int(n))\n",
    "    if int(n)%2 == 0:\n",
    "        print(\" number is even\")\n",
    "    else:\n",
    "        print(\"number is odd\")\n",
    "    "
   ]
  },
  {
   "cell_type": "code",
   "execution_count": 48,
   "metadata": {},
   "outputs": [],
   "source": [
    "inventory = ['Apple','Banana', 'Potato','Mango','Onion','Toothpaste']\n",
    "\n",
    "fruits = ['Apple','Banana','Mango','Orange','Strawberry']\n",
    "Vegetables = ['Potato','Onion','Cucumber','Celery']\n"
   ]
  },
  {
   "cell_type": "code",
   "execution_count": null,
   "metadata": {},
   "outputs": [],
   "source": [
    "if fruits in inventory:\n",
    "    print(\"\")"
   ]
  },
  {
   "cell_type": "code",
   "execution_count": 49,
   "metadata": {},
   "outputs": [
    {
     "name": "stdout",
     "output_type": "stream",
     "text": [
      "current letter: p\n",
      "current letter: y\n",
      "current letter: t\n"
     ]
    }
   ],
   "source": [
    "for letter in 'python':\n",
    "    if letter =='h':\n",
    "        break\n",
    "    print(\"current letter:\",letter)"
   ]
  },
  {
   "cell_type": "code",
   "execution_count": 50,
   "metadata": {},
   "outputs": [
    {
     "name": "stdout",
     "output_type": "stream",
     "text": [
      "current letter: p\n",
      "current letter: y\n",
      "current letter: t\n",
      "current letter: o\n",
      "current letter: n\n"
     ]
    }
   ],
   "source": [
    "for letter in 'python':\n",
    "    if letter =='h':\n",
    "        continue\n",
    "    print(\"current letter:\",letter)"
   ]
  },
  {
   "cell_type": "code",
   "execution_count": 52,
   "metadata": {},
   "outputs": [
    {
     "name": "stdout",
     "output_type": "stream",
     "text": [
      "current letter: p\n",
      "current letter: y\n",
      "current letter: t\n",
      "This is a pass block\n",
      "current letter: h\n",
      "current letter: o\n",
      "current letter: n\n"
     ]
    }
   ],
   "source": [
    "for letter in 'python':\n",
    "    if letter == 'h':\n",
    "        pass\n",
    "        print(\"This is a pass block\")\n",
    "    print(\"current letter:\",letter)"
   ]
  },
  {
   "cell_type": "code",
   "execution_count": null,
   "metadata": {},
   "outputs": [],
   "source": []
  }
 ],
 "metadata": {
  "kernelspec": {
   "display_name": "Python 3",
   "language": "python",
   "name": "python3"
  },
  "language_info": {
   "codemirror_mode": {
    "name": "ipython",
    "version": 3
   },
   "file_extension": ".py",
   "mimetype": "text/x-python",
   "name": "python",
   "nbconvert_exporter": "python",
   "pygments_lexer": "ipython3",
   "version": "3.7.1"
  }
 },
 "nbformat": 4,
 "nbformat_minor": 2
}
