{
 "cells": [
  {
   "cell_type": "markdown",
   "metadata": {},
   "source": [
    "# Python : Dictionary Manupulation "
   ]
  },
  {
   "cell_type": "markdown",
   "metadata": {},
   "source": [
    "### Simple list"
   ]
  },
  {
   "cell_type": "code",
   "execution_count": 12,
   "metadata": {},
   "outputs": [],
   "source": [
    "players = {'Sachin' : 10,\n",
    "          'Dhoni' : 7,\n",
    "          'Kohli' : 18,\n",
    "          'Ganguly': 99}"
   ]
  },
  {
   "cell_type": "code",
   "execution_count": 2,
   "metadata": {},
   "outputs": [
    {
     "data": {
      "text/plain": [
       "10"
      ]
     },
     "execution_count": 2,
     "metadata": {},
     "output_type": "execute_result"
    }
   ],
   "source": [
    "players['Sachin']"
   ]
  },
  {
   "cell_type": "markdown",
   "metadata": {},
   "source": [
    "### 1. The ``keys()``, ``values()``, and ``items()`` Methods "
   ]
  },
  {
   "cell_type": "code",
   "execution_count": 3,
   "metadata": {
    "scrolled": true
   },
   "outputs": [
    {
     "name": "stdout",
     "output_type": "stream",
     "text": [
      "dict_keys(['Sachin', 'Dhoni', 'Kohli', 'Ganguly'])\n"
     ]
    }
   ],
   "source": [
    "print(players.keys())"
   ]
  },
  {
   "cell_type": "code",
   "execution_count": 4,
   "metadata": {},
   "outputs": [
    {
     "name": "stdout",
     "output_type": "stream",
     "text": [
      "dict_values([10, 7, 18, 99])\n"
     ]
    }
   ],
   "source": [
    "print(players.values())"
   ]
  },
  {
   "cell_type": "code",
   "execution_count": 5,
   "metadata": {},
   "outputs": [
    {
     "name": "stdout",
     "output_type": "stream",
     "text": [
      "dict_items([('Sachin', 10), ('Dhoni', 7), ('Kohli', 18), ('Ganguly', 99)])\n"
     ]
    }
   ],
   "source": [
    "print(players.items())"
   ]
  },
  {
   "cell_type": "markdown",
   "metadata": {},
   "source": [
    "### 2. Adding a new key-value pair"
   ]
  },
  {
   "cell_type": "code",
   "execution_count": 14,
   "metadata": {
    "scrolled": true
   },
   "outputs": [
    {
     "name": "stdout",
     "output_type": "stream",
     "text": [
      "{'Sachin': 10, 'Dhoni': 7, 'Kohli': 18, 'Ganguly': 93, 'rahul': 14}\n"
     ]
    }
   ],
   "source": [
    "players['rahul'] = 14\n",
    "\n",
    "print(players)"
   ]
  },
  {
   "cell_type": "markdown",
   "metadata": {},
   "source": [
    "### 3. Removing a key-value pair"
   ]
  },
  {
   "cell_type": "code",
   "execution_count": 15,
   "metadata": {},
   "outputs": [
    {
     "name": "stdout",
     "output_type": "stream",
     "text": [
      "{'Dhoni': 7, 'Kohli': 18, 'Ganguly': 93, 'rahul': 14}\n"
     ]
    }
   ],
   "source": [
    "del players['Sachin']\n",
    "\n",
    "print(players)"
   ]
  },
  {
   "cell_type": "markdown",
   "metadata": {},
   "source": [
    "### 4. Modifying a value "
   ]
  },
  {
   "cell_type": "code",
   "execution_count": 16,
   "metadata": {},
   "outputs": [
    {
     "name": "stdout",
     "output_type": "stream",
     "text": [
      "{'Dhoni': 7, 'Kohli': 18, 'Ganguly': 1, 'rahul': 14}\n"
     ]
    }
   ],
   "source": [
    "players['Ganguly'] = 1\n",
    "\n",
    "print(players)"
   ]
  },
  {
   "cell_type": "markdown",
   "metadata": {},
   "source": [
    "### 5. Looping with Dictionary "
   ]
  },
  {
   "cell_type": "code",
   "execution_count": 17,
   "metadata": {
    "scrolled": true
   },
   "outputs": [
    {
     "name": "stdout",
     "output_type": "stream",
     "text": [
      "Sachin wears jersey 10\n",
      "Dhoni wears jersey 7\n",
      "Kohli wears jersey 18\n",
      "Ganguly wears jersey 99\n"
     ]
    }
   ],
   "source": [
    "players = {'Sachin' : 10,\n",
    "          'Dhoni' : 7,\n",
    "          'Kohli' : 18,\n",
    "          'Ganguly': 99}\n",
    "\n",
    "for key, value in players.items():\n",
    "    print(key + \" wears jersey \" + str(value))"
   ]
  },
  {
   "cell_type": "code",
   "execution_count": 18,
   "metadata": {
    "scrolled": false
   },
   "outputs": [
    {
     "name": "stdout",
     "output_type": "stream",
     "text": [
      "Sachin\n",
      "Dhoni\n",
      "Kohli\n",
      "Ganguly\n"
     ]
    }
   ],
   "source": [
    "for key in players.keys():\n",
    "    print(key)"
   ]
  },
  {
   "cell_type": "code",
   "execution_count": 19,
   "metadata": {
    "scrolled": true
   },
   "outputs": [
    {
     "name": "stdout",
     "output_type": "stream",
     "text": [
      "10\n",
      "7\n",
      "18\n",
      "99\n"
     ]
    }
   ],
   "source": [
    "for v in players.values():\n",
    "    print(v)"
   ]
  },
  {
   "cell_type": "markdown",
   "metadata": {},
   "source": [
    "### 6. The ``get()``, ``setdefault()``Methods"
   ]
  },
  {
   "cell_type": "code",
   "execution_count": 22,
   "metadata": {
    "scrolled": true
   },
   "outputs": [
    {
     "name": "stdout",
     "output_type": "stream",
     "text": [
      "I am bringing 0 cups.I am bringing 2 cups.\n",
      "I am bringing 6 eggs.I am bringing 0 eggs.\n",
      "{'apples': 5, 'cups': 2}\n"
     ]
    }
   ],
   "source": [
    "picnicItems = {'apples': 5, 'cups': 2}\n",
    "\n",
    "print('I am bringing ' + str(picnicItems.get('cup', 0)) + ' cups.' 'I am bringing 2 cups.')\n",
    "print('I am bringing ' + str(picnicItems.get('eggs', 6)) + ' eggs.' 'I am bringing 0 eggs.')\n",
    "print(picnicItems)"
   ]
  },
  {
   "cell_type": "code",
   "execution_count": 27,
   "metadata": {},
   "outputs": [
    {
     "name": "stdout",
     "output_type": "stream",
     "text": [
      "{'name': 'Pooja', 'age': 5, 'color': 'blue'}\n"
     ]
    }
   ],
   "source": [
    "spam = {'name': 'Pooja', 'age': 5} \n",
    "\n",
    "spam.setdefault('color', 'blue') \n",
    "\n",
    "spam.setdefault('color', 'white') \n",
    "\n",
    "print(spam)"
   ]
  },
  {
   "cell_type": "markdown",
   "metadata": {},
   "source": [
    "## 7. Nesting "
   ]
  },
  {
   "cell_type": "markdown",
   "metadata": {},
   "source": [
    "### A List of Dictionaries "
   ]
  },
  {
   "cell_type": "code",
   "execution_count": 28,
   "metadata": {},
   "outputs": [
    {
     "name": "stdout",
     "output_type": "stream",
     "text": [
      "{'name': 'Sharath', 'height': 174, 'age': 23}\n",
      "{'name': 'Manoj', 'height': 165, 'age': 24}\n",
      "{'name': 'Manjunath', 'height': 180, 'age': 25}\n"
     ]
    }
   ],
   "source": [
    "user1 = {'name':'Sharath', 'height': 174, 'age': 23}\n",
    "user2 = {'name':'Manoj', 'height': 165, 'age': 24}\n",
    "user3 = {'name':'Manjunath', 'height': 180, 'age': 25}\n",
    "\n",
    "all_user = [user1, user2, user3]\n",
    "for users in all_user:\n",
    "    \n",
    "    print(users)\n",
    "    "
   ]
  },
  {
   "cell_type": "markdown",
   "metadata": {},
   "source": [
    "### A Dictionary in a  Dictionary"
   ]
  },
  {
   "cell_type": "code",
   "execution_count": 29,
   "metadata": {},
   "outputs": [
    {
     "data": {
      "text/plain": [
       "dict_items([('einstein', {'first': 'albert', 'last': 'einstein', 'location': 'princeton'}), ('mcurie', {'first': 'marie', 'last': 'curie', 'location': 'paris'})])"
      ]
     },
     "execution_count": 29,
     "metadata": {},
     "output_type": "execute_result"
    }
   ],
   "source": [
    "users = {'einstein': {\n",
    "         'first': 'albert', \n",
    "         'last': 'einstein', \n",
    "         'location': 'princeton'},    \n",
    "         \n",
    "         'mcurie': {\n",
    "         'first': 'marie',\n",
    "         'last': 'curie',\n",
    "         'location': 'paris'}}\n",
    "\n",
    "users.items()"
   ]
  },
  {
   "cell_type": "code",
   "execution_count": 30,
   "metadata": {
    "scrolled": true
   },
   "outputs": [
    {
     "name": "stdout",
     "output_type": "stream",
     "text": [
      "\n",
      "Username: Einstein\n",
      "\tFull name: Albert Einstein\n",
      "\tLocation: Princeton\n",
      "\n",
      "Username: Mcurie\n",
      "\tFull name: Marie Curie\n",
      "\tLocation: Paris\n"
     ]
    }
   ],
   "source": [
    "for username, user_info in users.items():\n",
    "    print(\"\\nUsername: \" + username.title())\n",
    "    full_name = user_info['first'] + \" \" + user_info['last']\n",
    "    location = user_info['location']\n",
    "    \n",
    "    print(\"\\tFull name: \" + full_name.title())    \n",
    "    print(\"\\tLocation: \" + location.title())\n"
   ]
  },
  {
   "cell_type": "code",
   "execution_count": 31,
   "metadata": {},
   "outputs": [
    {
     "name": "stdout",
     "output_type": "stream",
     "text": [
      "Enter your name nikhat\n"
     ]
    }
   ],
   "source": [
    "name = input(\"Enter your name \")"
   ]
  },
  {
   "cell_type": "code",
   "execution_count": 32,
   "metadata": {},
   "outputs": [
    {
     "name": "stdout",
     "output_type": "stream",
     "text": [
      "enter password nikki\n"
     ]
    }
   ],
   "source": [
    "password = input(\"enter password \")"
   ]
  },
  {
   "cell_type": "code",
   "execution_count": 33,
   "metadata": {},
   "outputs": [
    {
     "name": "stdout",
     "output_type": "stream",
     "text": [
      "enter age 20\n"
     ]
    }
   ],
   "source": [
    "age = input(\"enter age \")\n"
   ]
  },
  {
   "cell_type": "code",
   "execution_count": 49,
   "metadata": {},
   "outputs": [
    {
     "name": "stdout",
     "output_type": "stream",
     "text": [
      "enter your namesahana\n",
      "enter your age20\n",
      "['sahana', '20']\n"
     ]
    }
   ],
   "source": [
    "user=[]\n",
    "user.append(input(\"enter your name\"))\n",
    "user.append(input(\"enter your age\"))\n",
    "print (user)"
   ]
  },
  {
   "cell_type": "code",
   "execution_count": 50,
   "metadata": {},
   "outputs": [
    {
     "name": "stdout",
     "output_type": "stream",
     "text": [
      "change name tonikhat\n",
      "['nikhat', '20']\n"
     ]
    }
   ],
   "source": [
    "new=input (\"change name to\")\n",
    "user[0]=new\n",
    "print(user)"
   ]
  },
  {
   "cell_type": "code",
   "execution_count": 51,
   "metadata": {},
   "outputs": [
    {
     "name": "stdout",
     "output_type": "stream",
     "text": [
      "enter colorblue\n"
     ]
    }
   ],
   "source": [
    "user.append(input(\"enter color\"))"
   ]
  },
  {
   "cell_type": "code",
   "execution_count": 52,
   "metadata": {},
   "outputs": [
    {
     "name": "stdout",
     "output_type": "stream",
     "text": [
      "['nikhat', '20', 'blue']\n"
     ]
    }
   ],
   "source": [
    "print(user)"
   ]
  },
  {
   "cell_type": "code",
   "execution_count": 53,
   "metadata": {},
   "outputs": [
    {
     "name": "stdout",
     "output_type": "stream",
     "text": [
      "enter your first nameaara\n",
      "['aara', 'nikhat', '20', 'blue']\n"
     ]
    }
   ],
   "source": [
    "fname=input(\"enter your first name\")\n",
    "user.insert(0,fname)\n",
    "print(user)"
   ]
  },
  {
   "cell_type": "code",
   "execution_count": 54,
   "metadata": {},
   "outputs": [],
   "source": [
    "del user[4:]\n"
   ]
  },
  {
   "cell_type": "code",
   "execution_count": 55,
   "metadata": {},
   "outputs": [
    {
     "name": "stdout",
     "output_type": "stream",
     "text": [
      "['aara', 'nikhat', '20', 'blue']\n"
     ]
    }
   ],
   "source": [
    "print(user)"
   ]
  },
  {
   "cell_type": "code",
   "execution_count": 56,
   "metadata": {},
   "outputs": [],
   "source": [
    "del user[2]"
   ]
  },
  {
   "cell_type": "code",
   "execution_count": 57,
   "metadata": {},
   "outputs": [
    {
     "name": "stdout",
     "output_type": "stream",
     "text": [
      "['aara', 'nikhat', 'blue']\n"
     ]
    }
   ],
   "source": [
    "print(user)"
   ]
  },
  {
   "cell_type": "code",
   "execution_count": 59,
   "metadata": {},
   "outputs": [
    {
     "name": "stdout",
     "output_type": "stream",
     "text": [
      "enter colorwhite\n",
      "['aara', 'nikhat', 'blue', 'white']\n"
     ]
    }
   ],
   "source": [
    "user.append(input(\"enter color\"))\n",
    "print(user)"
   ]
  },
  {
   "cell_type": "code",
   "execution_count": null,
   "metadata": {},
   "outputs": [],
   "source": []
  },
  {
   "cell_type": "code",
   "execution_count": 60,
   "metadata": {},
   "outputs": [],
   "source": [
    "user_dict={}\n",
    "user_dict['color']=user[3]\n",
    "user_dict['first_name']=user[0]\n",
    "user_dict['last_name']=user[1]\n",
    "user_dict['age']=user[2]"
   ]
  },
  {
   "cell_type": "code",
   "execution_count": 61,
   "metadata": {},
   "outputs": [
    {
     "name": "stdout",
     "output_type": "stream",
     "text": [
      "{'color': 'white', 'first_name': 'aara', 'last_name': 'nikhat', 'age': 'blue'}\n"
     ]
    }
   ],
   "source": [
    "print(user_dict)"
   ]
  },
  {
   "cell_type": "code",
   "execution_count": null,
   "metadata": {},
   "outputs": [],
   "source": []
  },
  {
   "cell_type": "code",
   "execution_count": null,
   "metadata": {},
   "outputs": [],
   "source": []
  }
 ],
 "metadata": {
  "kernelspec": {
   "display_name": "Python 3",
   "language": "python",
   "name": "python3"
  },
  "language_info": {
   "codemirror_mode": {
    "name": "ipython",
    "version": 3
   },
   "file_extension": ".py",
   "mimetype": "text/x-python",
   "name": "python",
   "nbconvert_exporter": "python",
   "pygments_lexer": "ipython3",
   "version": "3.7.1"
  }
 },
 "nbformat": 4,
 "nbformat_minor": 2
}
