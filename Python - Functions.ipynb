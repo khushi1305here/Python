{
 "cells": [
  {
   "cell_type": "markdown",
   "metadata": {},
   "source": [
    "# Python : Functions \n",
    "\n",
    "### For Built-In Functions visit official documeantation :https://docs.python.org/3/library/functions.html"
   ]
  },
  {
   "cell_type": "markdown",
   "metadata": {},
   "source": [
    "## 1. Function Defination"
   ]
  },
  {
   "cell_type": "code",
   "execution_count": 1,
   "metadata": {
    "scrolled": true
   },
   "outputs": [
    {
     "name": "stdout",
     "output_type": "stream",
     "text": [
      "Hello Rove Labs\n",
      "Hello Decibles\n"
     ]
    }
   ],
   "source": [
    "def hello(name):\n",
    "    \"\"\"Display a simple greeting.\"\"\"       # Docstring\n",
    "    print('Hello ' + name.title())\n",
    "    \n",
    "hello('rove Labs')\n",
    "hello('Decibles')"
   ]
  },
  {
   "cell_type": "markdown",
   "metadata": {},
   "source": [
    "#### Docstring :\n",
    "Describes what the function does. Docstrings are enclosed in triple quotes, which Python looks for when it generates documentation for the functions in your programs. \n",
    "\n",
    "#### Parameter : (name)\n",
    "A parameter is a Variable that an argument is stored in when a function is called.\n",
    "\n",
    "#### Argument : ( \"Rove Labs\")\n"
   ]
  },
  {
   "cell_type": "markdown",
   "metadata": {},
   "source": [
    "## 2. Return values and Return statements"
   ]
  },
  {
   "cell_type": "code",
   "execution_count": 3,
   "metadata": {},
   "outputs": [
    {
     "name": "stdout",
     "output_type": "stream",
     "text": [
      "Biggest mammel in the world? \n",
      "1.Elephant 2.Blue Whale 3.Giraffe 4.Bull\n",
      "Biggest mammel in the world? 3\n"
     ]
    }
   ],
   "source": [
    "def correctAnswer(option):\n",
    "    if option == 1:\n",
    "        return \"Wrong\"\n",
    "    elif option == 2:\n",
    "        return \"Right\"\n",
    "    elif option == 3:\n",
    "        return \"Wrong\"\n",
    "    elif option ==4:\n",
    "        return \"Wrong\"\n",
    "    \n",
    "\n",
    "print(\"Biggest mammel in the world? \")\n",
    "print(\"1.Elephant 2.Blue Whale 3.Giraffe 4.Bull\")\n",
    "\n",
    "answer = int(input(\"Biggest mammel in the world? \"))\n",
    "ans = correctAnswer(answer)"
   ]
  },
  {
   "cell_type": "code",
   "execution_count": 4,
   "metadata": {},
   "outputs": [
    {
     "name": "stdout",
     "output_type": "stream",
     "text": [
      "Wrong\n"
     ]
    }
   ],
   "source": [
    "print(ans)"
   ]
  },
  {
   "cell_type": "code",
   "execution_count": 8,
   "metadata": {},
   "outputs": [
    {
     "name": "stdout",
     "output_type": "stream",
     "text": [
      "5000.0\n",
      "50.0\n"
     ]
    }
   ],
   "source": [
    "def speedCal(distance, time):\n",
    "    \"\"\"Calculate Speed\"\"\"\n",
    "    val = 100\n",
    "    speed = distance/time\n",
    "    spe = speed*val\n",
    "    return spe, speed\n",
    "\n",
    "s,sl= speedCal(100,2)\n",
    "\n",
    "print(s)\n",
    "print(sl)"
   ]
  },
  {
   "cell_type": "code",
   "execution_count": null,
   "metadata": {},
   "outputs": [],
   "source": []
  },
  {
   "cell_type": "code",
   "execution_count": 9,
   "metadata": {},
   "outputs": [
    {
     "data": {
      "text/plain": [
       "'Jhon 1'"
      ]
     },
     "execution_count": 9,
     "metadata": {},
     "output_type": "execute_result"
    }
   ],
   "source": [
    "def formatName(first_name, last_name):\n",
    "    \"\"\"Return a full name\"\"\"\n",
    "    full_name = str(first_name) + \" \" + str(last_name)\n",
    "    return full_name.title()\n",
    "\n",
    "formatName(\"jhon\", 1)"
   ]
  },
  {
   "cell_type": "markdown",
   "metadata": {},
   "source": [
    "###  Returning a Dicitionary - 1"
   ]
  },
  {
   "cell_type": "code",
   "execution_count": 10,
   "metadata": {},
   "outputs": [
    {
     "data": {
      "text/plain": [
       "('jhon', 'doe')"
      ]
     },
     "execution_count": 10,
     "metadata": {},
     "output_type": "execute_result"
    }
   ],
   "source": [
    "def formatName(first_name, last_name):\n",
    "    \"\"\"Return a full name\"\"\"\n",
    "    full_name = (first_name,last_name)\n",
    "    return full_name\n",
    "\n",
    "formatName(\"jhon\", \"doe\")"
   ]
  },
  {
   "cell_type": "markdown",
   "metadata": {},
   "source": [
    "###  Returning a Dicitionary - 2"
   ]
  },
  {
   "cell_type": "code",
   "execution_count": 12,
   "metadata": {},
   "outputs": [
    {
     "data": {
      "text/plain": [
       "{'first': 'jhon', 'last': 'doe', 'age': 45}"
      ]
     },
     "execution_count": 12,
     "metadata": {},
     "output_type": "execute_result"
    }
   ],
   "source": [
    "def formatName(first_name, last_name, age=''):\n",
    "    \"\"\"Return a full name\"\"\"\n",
    "    full_name = {'first' : first_name, 'last' : last_name}\n",
    "    if age:\n",
    "        full_name['age'] = age\n",
    "    return full_name\n",
    "\n",
    "formatName(\"jhon\", \"doe\",45)"
   ]
  },
  {
   "cell_type": "markdown",
   "metadata": {},
   "source": [
    "## 3. Passing Arguments"
   ]
  },
  {
   "cell_type": "markdown",
   "metadata": {},
   "source": [
    "## a. Positional Arguments\n",
    "    1. Positional arguments needs to be in the same order the parameters were written.\n",
    "    2. Order Matters in Positional arguments."
   ]
  },
  {
   "cell_type": "code",
   "execution_count": 13,
   "metadata": {},
   "outputs": [
    {
     "name": "stdout",
     "output_type": "stream",
     "text": [
      " I have completed MECHANICAL.\n",
      " I studied B.E Engineering.\n",
      "\n"
     ]
    }
   ],
   "source": [
    "def describe_Me(degree, department):\n",
    "    \"\"\"Display information on me\"\"\"\n",
    "    print(\" I have completed \" + degree.upper() + \".\")\n",
    "    print(\" I studied \" + department.title() + \" Engineering.\\n\")\n",
    "    \n",
    "\n",
    "describe_Me('mechaNIcal','b.E' )    #it is in wrong order"
   ]
  },
  {
   "cell_type": "markdown",
   "metadata": {},
   "source": [
    "## b. Keyword Arguments\n",
    "    1. A keyword argument is a name-value pair that you pass to a function.\n",
    "    2. When you use keyword arguments, be sure to use the exact names of the parameters in the function’s definition."
   ]
  },
  {
   "cell_type": "code",
   "execution_count": 14,
   "metadata": {},
   "outputs": [
    {
     "name": "stdout",
     "output_type": "stream",
     "text": [
      " I have completed B.E.\n",
      " I studied Mechanical Engineering.\n",
      "\n",
      " I have completed B.E.\n",
      " I studied Mechanical Engineering.\n",
      "\n"
     ]
    }
   ],
   "source": [
    "describe_Me(degree='b.E', department='mechaNIcal')\n",
    "describe_Me(department='mechaNIcal', degree='b.E')"
   ]
  },
  {
   "cell_type": "markdown",
   "metadata": {},
   "source": [
    "## c. Default parameter values\n",
    "\n",
    "    When you use default values, any parameter with a default value needs to be listed after all the parameters that don’t have default values. This allows Python to continue interpreting positional arguments correctly."
   ]
  },
  {
   "cell_type": "code",
   "execution_count": 15,
   "metadata": {
    "scrolled": true
   },
   "outputs": [],
   "source": [
    "def describe_me(department, degree='B.E'):\n",
    "    \"\"\"Display information on me\"\"\"\n",
    "    print(\" I have completed \" + degree.upper() + \".\")\n",
    "    print(\" I studied \" + department.title() + \" Engineering.\\n\")"
   ]
  },
  {
   "cell_type": "code",
   "execution_count": 16,
   "metadata": {},
   "outputs": [
    {
     "name": "stdout",
     "output_type": "stream",
     "text": [
      " I have completed B.E.\n",
      " I studied Mechanical Engineering.\n",
      "\n"
     ]
    }
   ],
   "source": [
    "describe_me(department='mechanical')"
   ]
  },
  {
   "cell_type": "code",
   "execution_count": 17,
   "metadata": {
    "scrolled": true
   },
   "outputs": [
    {
     "name": "stdout",
     "output_type": "stream",
     "text": [
      " I have completed B.E.\n",
      " I studied Mechanical Engineering.\n",
      "\n"
     ]
    }
   ],
   "source": [
    "describe_me('mechanical')"
   ]
  },
  {
   "cell_type": "markdown",
   "metadata": {},
   "source": [
    "## d. Optional Argument\n",
    "     1. You can use null default values to make an argument optional.\n",
    "     2. And it must be positioned at end in the list of parameters."
   ]
  },
  {
   "cell_type": "code",
   "execution_count": 18,
   "metadata": {
    "scrolled": true
   },
   "outputs": [
    {
     "ename": "TypeError",
     "evalue": "formatName() missing 1 required positional argument: 'last_name'",
     "output_type": "error",
     "traceback": [
      "\u001b[1;31m---------------------------------------------------------------------------\u001b[0m",
      "\u001b[1;31mTypeError\u001b[0m                                 Traceback (most recent call last)",
      "\u001b[1;32m<ipython-input-18-ea6ed4e58ca5>\u001b[0m in \u001b[0;36m<module>\u001b[1;34m\u001b[0m\n\u001b[0;32m      4\u001b[0m     \u001b[1;32mreturn\u001b[0m \u001b[0mfull_name\u001b[0m\u001b[1;33m.\u001b[0m\u001b[0mtitle\u001b[0m\u001b[1;33m(\u001b[0m\u001b[1;33m)\u001b[0m\u001b[1;33m\u001b[0m\u001b[1;33m\u001b[0m\u001b[0m\n\u001b[0;32m      5\u001b[0m \u001b[1;33m\u001b[0m\u001b[0m\n\u001b[1;32m----> 6\u001b[1;33m \u001b[0mformatName\u001b[0m\u001b[1;33m(\u001b[0m\u001b[1;34m\"jhon\"\u001b[0m\u001b[1;33m,\u001b[0m \u001b[1;34m\"doe\"\u001b[0m\u001b[1;33m)\u001b[0m\u001b[1;33m\u001b[0m\u001b[1;33m\u001b[0m\u001b[0m\n\u001b[0m",
      "\u001b[1;31mTypeError\u001b[0m: formatName() missing 1 required positional argument: 'last_name'"
     ]
    }
   ],
   "source": [
    "def formatName(first_name, middle_name, last_name):\n",
    "    \"\"\"Return a full name\"\"\"\n",
    "    full_name = first_name + \" \" + middle_name + \" \" + last_name\n",
    "    return full_name.title()\n",
    "\n",
    "formatName(\"jhon\", \"doe\")"
   ]
  },
  {
   "cell_type": "code",
   "execution_count": 19,
   "metadata": {},
   "outputs": [
    {
     "name": "stdout",
     "output_type": "stream",
     "text": [
      "Jhon Davis\n"
     ]
    }
   ],
   "source": [
    "def formatName(first_name, last_name, middle_name = ''):\n",
    "    \"\"\"Return a full name\"\"\"\n",
    "    if middle_name:\n",
    "        full_name = first_name + \" \" + middle_name + \" \" + last_name\n",
    "    else:\n",
    "        full_name = first_name + \" \" + last_name\n",
    "    return full_name.title()\n",
    "\n",
    "print(formatName(\"jhon\", \"davis\"))"
   ]
  },
  {
   "cell_type": "code",
   "execution_count": 20,
   "metadata": {
    "scrolled": true
   },
   "outputs": [
    {
     "name": "stdout",
     "output_type": "stream",
     "text": [
      "Jhon Doe\n"
     ]
    }
   ],
   "source": [
    "print(formatName(\"Jhon\", \"DOE\"))"
   ]
  },
  {
   "cell_type": "markdown",
   "metadata": {},
   "source": [
    "## d. Arbitrary Number of Arguments"
   ]
  },
  {
   "cell_type": "code",
   "execution_count": 21,
   "metadata": {
    "scrolled": true
   },
   "outputs": [
    {
     "name": "stdout",
     "output_type": "stream",
     "text": [
      "\n",
      "Making a pizza with the following toppings:\n",
      "('pepperoni', 'jalepeno')\n"
     ]
    }
   ],
   "source": [
    "def make_pizza(*toppings):\n",
    "    \"\"\"Print the list of toppings that have been requested.\"\"\"\n",
    "    print(\"\\nMaking a pizza with the following toppings:\")\n",
    "    print(toppings)       \n",
    "    \n",
    "make_pizza('pepperoni', 'jalepeno') \n"
   ]
  },
  {
   "cell_type": "markdown",
   "metadata": {},
   "source": [
    "### Good Representation"
   ]
  },
  {
   "cell_type": "code",
   "execution_count": 25,
   "metadata": {},
   "outputs": [
    {
     "name": "stdout",
     "output_type": "stream",
     "text": [
      "\n",
      "Making a pizza with the following toppings:\n",
      "- pepperoni\n",
      "your order is done\n",
      "\n",
      "Making a pizza with the following toppings:\n",
      "- mushrooms\n",
      "- green peppers\n",
      "- extra cheese\n",
      "- olive\n",
      "your order is done\n"
     ]
    }
   ],
   "source": [
    "def make_pizza(*toppings):\n",
    "    \"\"\"Print the list of toppings that have been requested.\"\"\"\n",
    "    print(\"\\nMaking a pizza with the following toppings:\")\n",
    "    for names in toppings:\n",
    "        print(\"- \" + names )\n",
    "    print(\"your order is done\")\n",
    "make_pizza('pepperoni') \n",
    "make_pizza('mushrooms', 'green peppers', 'extra cheese', 'olive')"
   ]
  },
  {
   "cell_type": "markdown",
   "metadata": {},
   "source": [
    "### Mixing Positional and Arbitrary Arguments"
   ]
  },
  {
   "cell_type": "code",
   "execution_count": 26,
   "metadata": {
    "scrolled": true
   },
   "outputs": [
    {
     "name": "stdout",
     "output_type": "stream",
     "text": [
      "\n",
      "Making a 12 inch pizza with the following toppings:\n",
      "- pepperoni\n",
      "\n",
      "Making a 16 inch pizza with the following toppings:\n",
      "- mushrooms\n",
      "- green peppers\n",
      "- extra cheese\n"
     ]
    }
   ],
   "source": [
    "def make_pizza(size, *toppings):\n",
    "    \"\"\"Print the list of toppings that have been requested.\"\"\"\n",
    "    print(\"\\nMaking a \" + str(size) + \" inch pizza with the following toppings:\")\n",
    "    for names in toppings:\n",
    "        print(\"- \" + names )\n",
    "    \n",
    "make_pizza(12, 'pepperoni') \n",
    "make_pizza(16, 'mushrooms', 'green peppers', 'extra cheese')"
   ]
  },
  {
   "cell_type": "markdown",
   "metadata": {},
   "source": [
    "## e. Using Arbitrary Keyword Arguments"
   ]
  },
  {
   "cell_type": "code",
   "execution_count": null,
   "metadata": {},
   "outputs": [],
   "source": [
    "def build_profile(first, last, **user_info):\n",
    "    \"\"\"Build a dictionary containing everything we know about a user.\"\"\"\n",
    "    profile = {}\n",
    "    profile['first_name'] = first\n",
    "    profile['last_name'] = last\n",
    "    for key, value in user_info.items():\n",
    "        profile[key] = value\n",
    "    return profile\n",
    "\n",
    "user_profile = build_profile('shreyas', 'vernekar', location='BIET', field='ML', status = \"hungry\")\n",
    "\n",
    "print(user_profile)\n"
   ]
  },
  {
   "cell_type": "markdown",
   "metadata": {},
   "source": [
    "## 4. Passing List in function"
   ]
  },
  {
   "cell_type": "code",
   "execution_count": null,
   "metadata": {
    "scrolled": false
   },
   "outputs": [],
   "source": [
    "def greet_users(names):\n",
    "    \"\"\"Print a simple greeting to each user in the list.\"\"\"\n",
    "    for name in names:\n",
    "        msg = \"Hello, \" + name.title() + \"!\"\n",
    "        print(msg)\n",
    "\n",
    "usernames = ['Amar', 'Akbar', 'Antony'] \n",
    "greet_users(usernames)"
   ]
  },
  {
   "cell_type": "markdown",
   "metadata": {},
   "source": [
    "## 5. Exception Handling in Functions\n",
    "\n",
    "### Without Exception Handling"
   ]
  },
  {
   "cell_type": "code",
   "execution_count": 27,
   "metadata": {},
   "outputs": [
    {
     "name": "stdout",
     "output_type": "stream",
     "text": [
      "8.4\n",
      "3.5\n"
     ]
    },
    {
     "ename": "ZeroDivisionError",
     "evalue": "division by zero",
     "output_type": "error",
     "traceback": [
      "\u001b[1;31m---------------------------------------------------------------------------\u001b[0m",
      "\u001b[1;31mZeroDivisionError\u001b[0m                         Traceback (most recent call last)",
      "\u001b[1;32m<ipython-input-27-f8b386680719>\u001b[0m in \u001b[0;36m<module>\u001b[1;34m\u001b[0m\n\u001b[0;32m      4\u001b[0m \u001b[0mprint\u001b[0m\u001b[1;33m(\u001b[0m\u001b[0mspam\u001b[0m\u001b[1;33m(\u001b[0m\u001b[1;36m5\u001b[0m\u001b[1;33m)\u001b[0m\u001b[1;33m)\u001b[0m\u001b[1;33m\u001b[0m\u001b[1;33m\u001b[0m\u001b[0m\n\u001b[0;32m      5\u001b[0m \u001b[0mprint\u001b[0m\u001b[1;33m(\u001b[0m\u001b[0mspam\u001b[0m\u001b[1;33m(\u001b[0m\u001b[1;36m12\u001b[0m\u001b[1;33m)\u001b[0m\u001b[1;33m)\u001b[0m\u001b[1;33m\u001b[0m\u001b[1;33m\u001b[0m\u001b[0m\n\u001b[1;32m----> 6\u001b[1;33m \u001b[0mprint\u001b[0m\u001b[1;33m(\u001b[0m\u001b[0mspam\u001b[0m\u001b[1;33m(\u001b[0m\u001b[1;36m0\u001b[0m\u001b[1;33m)\u001b[0m\u001b[1;33m)\u001b[0m\u001b[1;33m\u001b[0m\u001b[1;33m\u001b[0m\u001b[0m\n\u001b[0m\u001b[0;32m      7\u001b[0m \u001b[0mprint\u001b[0m\u001b[1;33m(\u001b[0m\u001b[0mspam\u001b[0m\u001b[1;33m(\u001b[0m\u001b[1;36m1.6\u001b[0m\u001b[1;33m)\u001b[0m\u001b[1;33m)\u001b[0m\u001b[1;33m\u001b[0m\u001b[1;33m\u001b[0m\u001b[0m\n",
      "\u001b[1;32m<ipython-input-27-f8b386680719>\u001b[0m in \u001b[0;36mspam\u001b[1;34m(divideBy)\u001b[0m\n\u001b[0;32m      1\u001b[0m \u001b[1;32mdef\u001b[0m \u001b[0mspam\u001b[0m\u001b[1;33m(\u001b[0m\u001b[0mdivideBy\u001b[0m\u001b[1;33m)\u001b[0m\u001b[1;33m:\u001b[0m\u001b[1;33m\u001b[0m\u001b[1;33m\u001b[0m\u001b[0m\n\u001b[1;32m----> 2\u001b[1;33m     \u001b[1;32mreturn\u001b[0m \u001b[1;36m42\u001b[0m \u001b[1;33m/\u001b[0m \u001b[0mdivideBy\u001b[0m\u001b[1;33m\u001b[0m\u001b[1;33m\u001b[0m\u001b[0m\n\u001b[0m\u001b[0;32m      3\u001b[0m \u001b[1;33m\u001b[0m\u001b[0m\n\u001b[0;32m      4\u001b[0m \u001b[0mprint\u001b[0m\u001b[1;33m(\u001b[0m\u001b[0mspam\u001b[0m\u001b[1;33m(\u001b[0m\u001b[1;36m5\u001b[0m\u001b[1;33m)\u001b[0m\u001b[1;33m)\u001b[0m\u001b[1;33m\u001b[0m\u001b[1;33m\u001b[0m\u001b[0m\n\u001b[0;32m      5\u001b[0m \u001b[0mprint\u001b[0m\u001b[1;33m(\u001b[0m\u001b[0mspam\u001b[0m\u001b[1;33m(\u001b[0m\u001b[1;36m12\u001b[0m\u001b[1;33m)\u001b[0m\u001b[1;33m)\u001b[0m\u001b[1;33m\u001b[0m\u001b[1;33m\u001b[0m\u001b[0m\n",
      "\u001b[1;31mZeroDivisionError\u001b[0m: division by zero"
     ]
    }
   ],
   "source": [
    "def spam(divideBy):\n",
    "    return 42 / divideBy\n",
    "\n",
    "print(spam(5))\n",
    "print(spam(12))\n",
    "print(spam(0))\n",
    "print(spam(1.6))"
   ]
  },
  {
   "cell_type": "markdown",
   "metadata": {},
   "source": [
    "### With Exception Handling"
   ]
  },
  {
   "cell_type": "code",
   "execution_count": 28,
   "metadata": {},
   "outputs": [
    {
     "name": "stdout",
     "output_type": "stream",
     "text": [
      "8.4\n",
      "3.5\n",
      "Error: Invalid argument.\n",
      "None\n",
      "26.25\n"
     ]
    }
   ],
   "source": [
    "def spam(divideBy):\n",
    "    try:\n",
    "        return 42 / divideBy\n",
    "    except ZeroDivisionError:\n",
    "        print('Error: Invalid argument.')\n",
    "        \n",
    "print(spam(5)) \n",
    "print(spam(12)) \n",
    "print(spam(0)) \n",
    "print(spam(1.6))\n"
   ]
  },
  {
   "cell_type": "markdown",
   "metadata": {},
   "source": [
    "## 6. Lamba Function (Anonymous Function)\n",
    "\n",
    "In Python, anonymous function is a function that is defined without a name.\n",
    "While normal functions are defined using the ``def`` keyword, in Python anonymous functions are defined using the ``lambda`` keyword.\n",
    "Hence, anonymous functions are also called lambda functions."
   ]
  },
  {
   "cell_type": "code",
   "execution_count": 29,
   "metadata": {
    "scrolled": true
   },
   "outputs": [
    {
     "name": "stdout",
     "output_type": "stream",
     "text": [
      "125\n"
     ]
    }
   ],
   "source": [
    "def cube(y): \n",
    "    return y*y*y; \n",
    "\n",
    "print(cube(5)) "
   ]
  },
  {
   "cell_type": "code",
   "execution_count": 34,
   "metadata": {},
   "outputs": [
    {
     "name": "stdout",
     "output_type": "stream",
     "text": [
      "1\n",
      "4\n",
      "9\n",
      "16\n",
      "25\n",
      "36\n",
      "49\n",
      "64\n",
      "81\n",
      "100\n",
      "121\n",
      "144\n",
      "169\n",
      "196\n",
      "225\n",
      "256\n",
      "289\n",
      "324\n",
      "361\n",
      "400\n"
     ]
    }
   ],
   "source": [
    "\n",
    "for value in range(1,21):\n",
    "    sqr = lambda x: x*x \n",
    "    print(sqr(value))   "
   ]
  },
  {
   "cell_type": "code",
   "execution_count": 30,
   "metadata": {},
   "outputs": [
    {
     "name": "stdout",
     "output_type": "stream",
     "text": [
      "343\n"
     ]
    }
   ],
   "source": [
    "cube = lambda x: x*x*x \n",
    "\n",
    "print(cube(7)) "
   ]
  },
  {
   "cell_type": "code",
   "execution_count": 36,
   "metadata": {},
   "outputs": [
    {
     "name": "stdout",
     "output_type": "stream",
     "text": [
      "3\n"
     ]
    }
   ],
   "source": [
    "add = lambda x,y: x+y\n",
    "print(add(1,2))"
   ]
  },
  {
   "cell_type": "markdown",
   "metadata": {},
   "source": [
    "### Example:  Find the square of all no in the list\n"
   ]
  },
  {
   "cell_type": "code",
   "execution_count": null,
   "metadata": {},
   "outputs": [],
   "source": []
  },
  {
   "cell_type": "code",
   "execution_count": 37,
   "metadata": {},
   "outputs": [
    {
     "name": "stdout",
     "output_type": "stream",
     "text": [
      "[4, 25, 49, 100, 324, 400]\n"
     ]
    }
   ],
   "source": [
    "lis = [2, 5, 7, 10, 18, 20]\n",
    "\n",
    "sqr_list =list(map(lambda x: (x*x) , lis)) \n",
    "\n",
    "print(sqr_list)\n",
    "\n"
   ]
  },
  {
   "cell_type": "markdown",
   "metadata": {},
   "source": [
    "## 7. Recursive Function"
   ]
  },
  {
   "cell_type": "code",
   "execution_count": null,
   "metadata": {},
   "outputs": [],
   "source": [
    "def factorial_recursive(n):\n",
    "    # Base case: 1! = 1\n",
    "    if n == 1:\n",
    "        return 1\n",
    "\n",
    "    # Recursive case: n! = n * (n-1)!\n",
    "    else:\n",
    "        return n * factorial_recursive(n-1)"
   ]
  },
  {
   "cell_type": "code",
   "execution_count": null,
   "metadata": {},
   "outputs": [],
   "source": [
    "factorial_recursive(5)"
   ]
  },
  {
   "cell_type": "markdown",
   "metadata": {},
   "source": [
    "### Note : Reading \n",
    "           1. Local and Global Variable\n",
    "           \n",
    "                   "
   ]
  }
 ],
 "metadata": {
  "kernelspec": {
   "display_name": "Python 3",
   "language": "python",
   "name": "python3"
  },
  "language_info": {
   "codemirror_mode": {
    "name": "ipython",
    "version": 3
   },
   "file_extension": ".py",
   "mimetype": "text/x-python",
   "name": "python",
   "nbconvert_exporter": "python",
   "pygments_lexer": "ipython3",
   "version": "3.7.1"
  }
 },
 "nbformat": 4,
 "nbformat_minor": 2
}
